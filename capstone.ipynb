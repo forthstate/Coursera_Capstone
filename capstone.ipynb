{
 "cells": [
  {
   "cell_type": "markdown",
   "metadata": {},
   "source": [
    "#### This Jupyter Notebook is part of the assessment of Applied Data Sciences Capstone project for the IBM Coursera Data Science Professional certification "
   ]
  },
  {
   "cell_type": "markdown",
   "metadata": {},
   "source": [
    "# How severe could a Car-Crash be in the UK ?\n",
    "#### Crash-data exploration, modelling and predicting the severity of possible accident, using different classification models."
   ]
  },
  {
   "cell_type": "markdown",
   "metadata": {},
   "source": [
    "### Introduction: Business Problem \n",
    "\n",
    "Predicting the severity of a car crash is no easy task. And even when possible, precision\n",
    "levels will vary significantly depending on, among many factors, the data available and how\n",
    "well the problem has been modeled. But here using the data available to public from the UK\n",
    "government website and supervised machine learning methods, we try to predict an accident\n",
    "severity, given date, time, weather, light, road conditions, etc."
   ]
  },
  {
   "cell_type": "code",
   "execution_count": 1,
   "metadata": {},
   "outputs": [],
   "source": [
    "import numpy as np\n",
    "import pandas as pd\n",
    "import matplotlib.pyplot as plt\n",
    "import matplotlib as mpl"
   ]
  },
  {
   "cell_type": "markdown",
   "metadata": {},
   "source": [
    "### Data Aquisition"
   ]
  },
  {
   "cell_type": "markdown",
   "metadata": {},
   "source": [
    "The UK government collects and publishes (usually on an annual basis) detailed information about traffic accidents across the country. This information includes, but is not limited to, geographical locations, weather conditions, type of vehicles, number of casualties and vehicle manoeuvres, making this a very interesting and comprehensive dataset for analysis and research.\n",
    "\n",
    "The dataset comprises of **two** csv files:\n",
    "\n",
    "**Accident_Information.csv**: every line in the file represents a unique traffic accident (identified by the AccidentIndex column), featuring various properties related to the accident as columns. Date range: 2005-2017"
   ]
  },
  {
   "cell_type": "code",
   "execution_count": 2,
   "metadata": {},
   "outputs": [
    {
     "name": "stderr",
     "output_type": "stream",
     "text": [
      "/home/user_id/.local/lib/python3.8/site-packages/IPython/core/interactiveshell.py:3145: DtypeWarning: Columns (0) have mixed types.Specify dtype option on import or set low_memory=False.\n",
      "  has_raised = await self.run_ast_nodes(code_ast.body, cell_name,\n"
     ]
    }
   ],
   "source": [
    "#Load Accident_Information\n",
    "accident_df = pd.read_csv('Accident_Information.csv')"
   ]
  },
  {
   "cell_type": "markdown",
   "metadata": {},
   "source": [
    "**Vehicle_Information.csv**: every line in the file represents the involvement of a unique vehicle in a unique traffic accident, featuring various vehicle and passenger properties as columns. Date range: 2004-2016"
   ]
  },
  {
   "cell_type": "code",
   "execution_count": 3,
   "metadata": {},
   "outputs": [],
   "source": [
    "#Load Vehicle_Information\n",
    "vehicle_df = pd.read_csv('Vehicle_Information.csv',encoding='ISO-8859-1')"
   ]
  },
  {
   "cell_type": "code",
   "execution_count": 4,
   "metadata": {},
   "outputs": [
    {
     "name": "stdout",
     "output_type": "stream",
     "text": [
      "accident_df: \n",
      "\t Records: 2047256 \n",
      "\t Columns: 34\n",
      "vehicle_df: \n",
      "\t Records: 2177205 \n",
      "\t Columns: 24\n"
     ]
    }
   ],
   "source": [
    "#check \n",
    "print('accident_df: \\n\\t Records:', accident_df.shape[0], '\\n\\t Columns:', accident_df.shape[1])\n",
    "print('vehicle_df: \\n\\t Records:', vehicle_df.shape[0], '\\n\\t Columns:', vehicle_df.shape[1])"
   ]
  },
  {
   "cell_type": "code",
   "execution_count": 6,
   "metadata": {},
   "outputs": [
    {
     "data": {
      "text/html": [
       "<div>\n",
       "<style scoped>\n",
       "    .dataframe tbody tr th:only-of-type {\n",
       "        vertical-align: middle;\n",
       "    }\n",
       "\n",
       "    .dataframe tbody tr th {\n",
       "        vertical-align: top;\n",
       "    }\n",
       "\n",
       "    .dataframe thead th {\n",
       "        text-align: right;\n",
       "    }\n",
       "</style>\n",
       "<table border=\"1\" class=\"dataframe\">\n",
       "  <thead>\n",
       "    <tr style=\"text-align: right;\">\n",
       "      <th></th>\n",
       "      <th>Accident_Index</th>\n",
       "      <th>1st_Road_Class</th>\n",
       "      <th>1st_Road_Number</th>\n",
       "      <th>2nd_Road_Class</th>\n",
       "      <th>2nd_Road_Number</th>\n",
       "      <th>Accident_Severity</th>\n",
       "      <th>Carriageway_Hazards</th>\n",
       "      <th>Date</th>\n",
       "      <th>Day_of_Week</th>\n",
       "      <th>Did_Police_Officer_Attend_Scene_of_Accident</th>\n",
       "      <th>...</th>\n",
       "      <th>Police_Force</th>\n",
       "      <th>Road_Surface_Conditions</th>\n",
       "      <th>Road_Type</th>\n",
       "      <th>Special_Conditions_at_Site</th>\n",
       "      <th>Speed_limit</th>\n",
       "      <th>Time</th>\n",
       "      <th>Urban_or_Rural_Area</th>\n",
       "      <th>Weather_Conditions</th>\n",
       "      <th>Year</th>\n",
       "      <th>InScotland</th>\n",
       "    </tr>\n",
       "  </thead>\n",
       "  <tbody>\n",
       "    <tr>\n",
       "      <th>0</th>\n",
       "      <td>200501BS00001</td>\n",
       "      <td>A</td>\n",
       "      <td>3218.0</td>\n",
       "      <td>NaN</td>\n",
       "      <td>0.0</td>\n",
       "      <td>Serious</td>\n",
       "      <td>None</td>\n",
       "      <td>2005-01-04</td>\n",
       "      <td>Tuesday</td>\n",
       "      <td>1.0</td>\n",
       "      <td>...</td>\n",
       "      <td>Metropolitan Police</td>\n",
       "      <td>Wet or damp</td>\n",
       "      <td>Single carriageway</td>\n",
       "      <td>None</td>\n",
       "      <td>30.0</td>\n",
       "      <td>17:42</td>\n",
       "      <td>Urban</td>\n",
       "      <td>Raining no high winds</td>\n",
       "      <td>2005</td>\n",
       "      <td>No</td>\n",
       "    </tr>\n",
       "    <tr>\n",
       "      <th>1</th>\n",
       "      <td>200501BS00002</td>\n",
       "      <td>B</td>\n",
       "      <td>450.0</td>\n",
       "      <td>C</td>\n",
       "      <td>0.0</td>\n",
       "      <td>Slight</td>\n",
       "      <td>None</td>\n",
       "      <td>2005-01-05</td>\n",
       "      <td>Wednesday</td>\n",
       "      <td>1.0</td>\n",
       "      <td>...</td>\n",
       "      <td>Metropolitan Police</td>\n",
       "      <td>Dry</td>\n",
       "      <td>Dual carriageway</td>\n",
       "      <td>None</td>\n",
       "      <td>30.0</td>\n",
       "      <td>17:36</td>\n",
       "      <td>Urban</td>\n",
       "      <td>Fine no high winds</td>\n",
       "      <td>2005</td>\n",
       "      <td>No</td>\n",
       "    </tr>\n",
       "    <tr>\n",
       "      <th>2</th>\n",
       "      <td>200501BS00003</td>\n",
       "      <td>C</td>\n",
       "      <td>0.0</td>\n",
       "      <td>NaN</td>\n",
       "      <td>0.0</td>\n",
       "      <td>Slight</td>\n",
       "      <td>None</td>\n",
       "      <td>2005-01-06</td>\n",
       "      <td>Thursday</td>\n",
       "      <td>1.0</td>\n",
       "      <td>...</td>\n",
       "      <td>Metropolitan Police</td>\n",
       "      <td>Dry</td>\n",
       "      <td>Single carriageway</td>\n",
       "      <td>None</td>\n",
       "      <td>30.0</td>\n",
       "      <td>00:15</td>\n",
       "      <td>Urban</td>\n",
       "      <td>Fine no high winds</td>\n",
       "      <td>2005</td>\n",
       "      <td>No</td>\n",
       "    </tr>\n",
       "    <tr>\n",
       "      <th>3</th>\n",
       "      <td>200501BS00004</td>\n",
       "      <td>A</td>\n",
       "      <td>3220.0</td>\n",
       "      <td>NaN</td>\n",
       "      <td>0.0</td>\n",
       "      <td>Slight</td>\n",
       "      <td>None</td>\n",
       "      <td>2005-01-07</td>\n",
       "      <td>Friday</td>\n",
       "      <td>1.0</td>\n",
       "      <td>...</td>\n",
       "      <td>Metropolitan Police</td>\n",
       "      <td>Dry</td>\n",
       "      <td>Single carriageway</td>\n",
       "      <td>None</td>\n",
       "      <td>30.0</td>\n",
       "      <td>10:35</td>\n",
       "      <td>Urban</td>\n",
       "      <td>Fine no high winds</td>\n",
       "      <td>2005</td>\n",
       "      <td>No</td>\n",
       "    </tr>\n",
       "    <tr>\n",
       "      <th>4</th>\n",
       "      <td>200501BS00005</td>\n",
       "      <td>Unclassified</td>\n",
       "      <td>0.0</td>\n",
       "      <td>NaN</td>\n",
       "      <td>0.0</td>\n",
       "      <td>Slight</td>\n",
       "      <td>None</td>\n",
       "      <td>2005-01-10</td>\n",
       "      <td>Monday</td>\n",
       "      <td>1.0</td>\n",
       "      <td>...</td>\n",
       "      <td>Metropolitan Police</td>\n",
       "      <td>Wet or damp</td>\n",
       "      <td>Single carriageway</td>\n",
       "      <td>None</td>\n",
       "      <td>30.0</td>\n",
       "      <td>21:13</td>\n",
       "      <td>Urban</td>\n",
       "      <td>Fine no high winds</td>\n",
       "      <td>2005</td>\n",
       "      <td>No</td>\n",
       "    </tr>\n",
       "  </tbody>\n",
       "</table>\n",
       "<p>5 rows × 34 columns</p>\n",
       "</div>"
      ],
      "text/plain": [
       "  Accident_Index 1st_Road_Class  1st_Road_Number 2nd_Road_Class  \\\n",
       "0  200501BS00001              A           3218.0            NaN   \n",
       "1  200501BS00002              B            450.0              C   \n",
       "2  200501BS00003              C              0.0            NaN   \n",
       "3  200501BS00004              A           3220.0            NaN   \n",
       "4  200501BS00005   Unclassified              0.0            NaN   \n",
       "\n",
       "   2nd_Road_Number Accident_Severity Carriageway_Hazards        Date  \\\n",
       "0              0.0           Serious                None  2005-01-04   \n",
       "1              0.0            Slight                None  2005-01-05   \n",
       "2              0.0            Slight                None  2005-01-06   \n",
       "3              0.0            Slight                None  2005-01-07   \n",
       "4              0.0            Slight                None  2005-01-10   \n",
       "\n",
       "  Day_of_Week  Did_Police_Officer_Attend_Scene_of_Accident  ...  \\\n",
       "0     Tuesday                                          1.0  ...   \n",
       "1   Wednesday                                          1.0  ...   \n",
       "2    Thursday                                          1.0  ...   \n",
       "3      Friday                                          1.0  ...   \n",
       "4      Monday                                          1.0  ...   \n",
       "\n",
       "          Police_Force Road_Surface_Conditions           Road_Type  \\\n",
       "0  Metropolitan Police             Wet or damp  Single carriageway   \n",
       "1  Metropolitan Police                     Dry    Dual carriageway   \n",
       "2  Metropolitan Police                     Dry  Single carriageway   \n",
       "3  Metropolitan Police                     Dry  Single carriageway   \n",
       "4  Metropolitan Police             Wet or damp  Single carriageway   \n",
       "\n",
       "  Special_Conditions_at_Site Speed_limit   Time  Urban_or_Rural_Area  \\\n",
       "0                       None        30.0  17:42                Urban   \n",
       "1                       None        30.0  17:36                Urban   \n",
       "2                       None        30.0  00:15                Urban   \n",
       "3                       None        30.0  10:35                Urban   \n",
       "4                       None        30.0  21:13                Urban   \n",
       "\n",
       "      Weather_Conditions  Year InScotland  \n",
       "0  Raining no high winds  2005         No  \n",
       "1     Fine no high winds  2005         No  \n",
       "2     Fine no high winds  2005         No  \n",
       "3     Fine no high winds  2005         No  \n",
       "4     Fine no high winds  2005         No  \n",
       "\n",
       "[5 rows x 34 columns]"
      ]
     },
     "execution_count": 6,
     "metadata": {},
     "output_type": "execute_result"
    }
   ],
   "source": [
    "accident_df.head()"
   ]
  },
  {
   "cell_type": "code",
   "execution_count": 7,
   "metadata": {},
   "outputs": [
    {
     "name": "stdout",
     "output_type": "stream",
     "text": [
      "<class 'pandas.core.frame.DataFrame'>\n",
      "RangeIndex: 2047256 entries, 0 to 2047255\n",
      "Data columns (total 34 columns):\n",
      " #   Column                                       Dtype  \n",
      "---  ------                                       -----  \n",
      " 0   Accident_Index                               object \n",
      " 1   1st_Road_Class                               object \n",
      " 2   1st_Road_Number                              float64\n",
      " 3   2nd_Road_Class                               object \n",
      " 4   2nd_Road_Number                              float64\n",
      " 5   Accident_Severity                            object \n",
      " 6   Carriageway_Hazards                          object \n",
      " 7   Date                                         object \n",
      " 8   Day_of_Week                                  object \n",
      " 9   Did_Police_Officer_Attend_Scene_of_Accident  float64\n",
      " 10  Junction_Control                             object \n",
      " 11  Junction_Detail                              object \n",
      " 12  Latitude                                     float64\n",
      " 13  Light_Conditions                             object \n",
      " 14  Local_Authority_(District)                   object \n",
      " 15  Local_Authority_(Highway)                    object \n",
      " 16  Location_Easting_OSGR                        float64\n",
      " 17  Location_Northing_OSGR                       float64\n",
      " 18  Longitude                                    float64\n",
      " 19  LSOA_of_Accident_Location                    object \n",
      " 20  Number_of_Casualties                         int64  \n",
      " 21  Number_of_Vehicles                           int64  \n",
      " 22  Pedestrian_Crossing-Human_Control            float64\n",
      " 23  Pedestrian_Crossing-Physical_Facilities      float64\n",
      " 24  Police_Force                                 object \n",
      " 25  Road_Surface_Conditions                      object \n",
      " 26  Road_Type                                    object \n",
      " 27  Special_Conditions_at_Site                   object \n",
      " 28  Speed_limit                                  float64\n",
      " 29  Time                                         object \n",
      " 30  Urban_or_Rural_Area                          object \n",
      " 31  Weather_Conditions                           object \n",
      " 32  Year                                         int64  \n",
      " 33  InScotland                                   object \n",
      "dtypes: float64(10), int64(3), object(21)\n",
      "memory usage: 531.1+ MB\n"
     ]
    }
   ],
   "source": [
    "#dataframe information\n",
    "accident_df.info()"
   ]
  },
  {
   "cell_type": "code",
   "execution_count": 8,
   "metadata": {},
   "outputs": [
    {
     "data": {
      "text/html": [
       "<div>\n",
       "<style scoped>\n",
       "    .dataframe tbody tr th:only-of-type {\n",
       "        vertical-align: middle;\n",
       "    }\n",
       "\n",
       "    .dataframe tbody tr th {\n",
       "        vertical-align: top;\n",
       "    }\n",
       "\n",
       "    .dataframe thead th {\n",
       "        text-align: right;\n",
       "    }\n",
       "</style>\n",
       "<table border=\"1\" class=\"dataframe\">\n",
       "  <thead>\n",
       "    <tr style=\"text-align: right;\">\n",
       "      <th></th>\n",
       "      <th>Accident_Index</th>\n",
       "      <th>Age_Band_of_Driver</th>\n",
       "      <th>Age_of_Vehicle</th>\n",
       "      <th>Driver_Home_Area_Type</th>\n",
       "      <th>Driver_IMD_Decile</th>\n",
       "      <th>Engine_Capacity_.CC.</th>\n",
       "      <th>Hit_Object_in_Carriageway</th>\n",
       "      <th>Hit_Object_off_Carriageway</th>\n",
       "      <th>Journey_Purpose_of_Driver</th>\n",
       "      <th>Junction_Location</th>\n",
       "      <th>...</th>\n",
       "      <th>Skidding_and_Overturning</th>\n",
       "      <th>Towing_and_Articulation</th>\n",
       "      <th>Vehicle_Leaving_Carriageway</th>\n",
       "      <th>Vehicle_Location.Restricted_Lane</th>\n",
       "      <th>Vehicle_Manoeuvre</th>\n",
       "      <th>Vehicle_Reference</th>\n",
       "      <th>Vehicle_Type</th>\n",
       "      <th>Was_Vehicle_Left_Hand_Drive</th>\n",
       "      <th>X1st_Point_of_Impact</th>\n",
       "      <th>Year</th>\n",
       "    </tr>\n",
       "  </thead>\n",
       "  <tbody>\n",
       "    <tr>\n",
       "      <th>0</th>\n",
       "      <td>200401BS00001</td>\n",
       "      <td>26 - 35</td>\n",
       "      <td>3.0</td>\n",
       "      <td>Urban area</td>\n",
       "      <td>4.0</td>\n",
       "      <td>1588.0</td>\n",
       "      <td>None</td>\n",
       "      <td>None</td>\n",
       "      <td>Data missing or out of range</td>\n",
       "      <td>Data missing or out of range</td>\n",
       "      <td>...</td>\n",
       "      <td>None</td>\n",
       "      <td>No tow/articulation</td>\n",
       "      <td>Did not leave carriageway</td>\n",
       "      <td>0.0</td>\n",
       "      <td>Going ahead other</td>\n",
       "      <td>2</td>\n",
       "      <td>109</td>\n",
       "      <td>Data missing or out of range</td>\n",
       "      <td>Front</td>\n",
       "      <td>2004</td>\n",
       "    </tr>\n",
       "    <tr>\n",
       "      <th>1</th>\n",
       "      <td>200401BS00002</td>\n",
       "      <td>26 - 35</td>\n",
       "      <td>NaN</td>\n",
       "      <td>Urban area</td>\n",
       "      <td>3.0</td>\n",
       "      <td>NaN</td>\n",
       "      <td>None</td>\n",
       "      <td>None</td>\n",
       "      <td>Data missing or out of range</td>\n",
       "      <td>Data missing or out of range</td>\n",
       "      <td>...</td>\n",
       "      <td>None</td>\n",
       "      <td>No tow/articulation</td>\n",
       "      <td>Did not leave carriageway</td>\n",
       "      <td>0.0</td>\n",
       "      <td>Going ahead other</td>\n",
       "      <td>1</td>\n",
       "      <td>109</td>\n",
       "      <td>Data missing or out of range</td>\n",
       "      <td>Front</td>\n",
       "      <td>2004</td>\n",
       "    </tr>\n",
       "    <tr>\n",
       "      <th>2</th>\n",
       "      <td>200401BS00003</td>\n",
       "      <td>26 - 35</td>\n",
       "      <td>4.0</td>\n",
       "      <td>Data missing or out of range</td>\n",
       "      <td>NaN</td>\n",
       "      <td>998.0</td>\n",
       "      <td>None</td>\n",
       "      <td>None</td>\n",
       "      <td>Data missing or out of range</td>\n",
       "      <td>Data missing or out of range</td>\n",
       "      <td>...</td>\n",
       "      <td>None</td>\n",
       "      <td>No tow/articulation</td>\n",
       "      <td>Did not leave carriageway</td>\n",
       "      <td>0.0</td>\n",
       "      <td>Turning right</td>\n",
       "      <td>1</td>\n",
       "      <td>109</td>\n",
       "      <td>Data missing or out of range</td>\n",
       "      <td>Front</td>\n",
       "      <td>2004</td>\n",
       "    </tr>\n",
       "    <tr>\n",
       "      <th>3</th>\n",
       "      <td>200401BS00003</td>\n",
       "      <td>66 - 75</td>\n",
       "      <td>NaN</td>\n",
       "      <td>Data missing or out of range</td>\n",
       "      <td>NaN</td>\n",
       "      <td>NaN</td>\n",
       "      <td>None</td>\n",
       "      <td>None</td>\n",
       "      <td>Data missing or out of range</td>\n",
       "      <td>Data missing or out of range</td>\n",
       "      <td>...</td>\n",
       "      <td>None</td>\n",
       "      <td>No tow/articulation</td>\n",
       "      <td>Did not leave carriageway</td>\n",
       "      <td>0.0</td>\n",
       "      <td>Going ahead other</td>\n",
       "      <td>2</td>\n",
       "      <td>109</td>\n",
       "      <td>Data missing or out of range</td>\n",
       "      <td>Front</td>\n",
       "      <td>2004</td>\n",
       "    </tr>\n",
       "    <tr>\n",
       "      <th>4</th>\n",
       "      <td>200401BS00004</td>\n",
       "      <td>26 - 35</td>\n",
       "      <td>1.0</td>\n",
       "      <td>Urban area</td>\n",
       "      <td>4.0</td>\n",
       "      <td>124.0</td>\n",
       "      <td>None</td>\n",
       "      <td>None</td>\n",
       "      <td>Data missing or out of range</td>\n",
       "      <td>Data missing or out of range</td>\n",
       "      <td>...</td>\n",
       "      <td>None</td>\n",
       "      <td>No tow/articulation</td>\n",
       "      <td>Did not leave carriageway</td>\n",
       "      <td>0.0</td>\n",
       "      <td>Going ahead other</td>\n",
       "      <td>1</td>\n",
       "      <td>Motorcycle 125cc and under</td>\n",
       "      <td>Data missing or out of range</td>\n",
       "      <td>Front</td>\n",
       "      <td>2004</td>\n",
       "    </tr>\n",
       "  </tbody>\n",
       "</table>\n",
       "<p>5 rows × 24 columns</p>\n",
       "</div>"
      ],
      "text/plain": [
       "  Accident_Index Age_Band_of_Driver  Age_of_Vehicle  \\\n",
       "0  200401BS00001            26 - 35             3.0   \n",
       "1  200401BS00002            26 - 35             NaN   \n",
       "2  200401BS00003            26 - 35             4.0   \n",
       "3  200401BS00003            66 - 75             NaN   \n",
       "4  200401BS00004            26 - 35             1.0   \n",
       "\n",
       "          Driver_Home_Area_Type  Driver_IMD_Decile  Engine_Capacity_.CC.  \\\n",
       "0                    Urban area                4.0                1588.0   \n",
       "1                    Urban area                3.0                   NaN   \n",
       "2  Data missing or out of range                NaN                 998.0   \n",
       "3  Data missing or out of range                NaN                   NaN   \n",
       "4                    Urban area                4.0                 124.0   \n",
       "\n",
       "  Hit_Object_in_Carriageway Hit_Object_off_Carriageway  \\\n",
       "0                      None                       None   \n",
       "1                      None                       None   \n",
       "2                      None                       None   \n",
       "3                      None                       None   \n",
       "4                      None                       None   \n",
       "\n",
       "      Journey_Purpose_of_Driver             Junction_Location  ...  \\\n",
       "0  Data missing or out of range  Data missing or out of range  ...   \n",
       "1  Data missing or out of range  Data missing or out of range  ...   \n",
       "2  Data missing or out of range  Data missing or out of range  ...   \n",
       "3  Data missing or out of range  Data missing or out of range  ...   \n",
       "4  Data missing or out of range  Data missing or out of range  ...   \n",
       "\n",
       "  Skidding_and_Overturning Towing_and_Articulation  \\\n",
       "0                     None     No tow/articulation   \n",
       "1                     None     No tow/articulation   \n",
       "2                     None     No tow/articulation   \n",
       "3                     None     No tow/articulation   \n",
       "4                     None     No tow/articulation   \n",
       "\n",
       "  Vehicle_Leaving_Carriageway Vehicle_Location.Restricted_Lane  \\\n",
       "0   Did not leave carriageway                              0.0   \n",
       "1   Did not leave carriageway                              0.0   \n",
       "2   Did not leave carriageway                              0.0   \n",
       "3   Did not leave carriageway                              0.0   \n",
       "4   Did not leave carriageway                              0.0   \n",
       "\n",
       "   Vehicle_Manoeuvre Vehicle_Reference                Vehicle_Type  \\\n",
       "0  Going ahead other                 2                         109   \n",
       "1  Going ahead other                 1                         109   \n",
       "2      Turning right                 1                         109   \n",
       "3  Going ahead other                 2                         109   \n",
       "4  Going ahead other                 1  Motorcycle 125cc and under   \n",
       "\n",
       "    Was_Vehicle_Left_Hand_Drive X1st_Point_of_Impact  Year  \n",
       "0  Data missing or out of range                Front  2004  \n",
       "1  Data missing or out of range                Front  2004  \n",
       "2  Data missing or out of range                Front  2004  \n",
       "3  Data missing or out of range                Front  2004  \n",
       "4  Data missing or out of range                Front  2004  \n",
       "\n",
       "[5 rows x 24 columns]"
      ]
     },
     "execution_count": 8,
     "metadata": {},
     "output_type": "execute_result"
    }
   ],
   "source": [
    "vehicle_df.head()"
   ]
  },
  {
   "cell_type": "code",
   "execution_count": 9,
   "metadata": {},
   "outputs": [
    {
     "name": "stdout",
     "output_type": "stream",
     "text": [
      "<class 'pandas.core.frame.DataFrame'>\n",
      "RangeIndex: 2177205 entries, 0 to 2177204\n",
      "Data columns (total 24 columns):\n",
      " #   Column                            Dtype  \n",
      "---  ------                            -----  \n",
      " 0   Accident_Index                    object \n",
      " 1   Age_Band_of_Driver                object \n",
      " 2   Age_of_Vehicle                    float64\n",
      " 3   Driver_Home_Area_Type             object \n",
      " 4   Driver_IMD_Decile                 float64\n",
      " 5   Engine_Capacity_.CC.              float64\n",
      " 6   Hit_Object_in_Carriageway         object \n",
      " 7   Hit_Object_off_Carriageway        object \n",
      " 8   Journey_Purpose_of_Driver         object \n",
      " 9   Junction_Location                 object \n",
      " 10  make                              object \n",
      " 11  model                             object \n",
      " 12  Propulsion_Code                   object \n",
      " 13  Sex_of_Driver                     object \n",
      " 14  Skidding_and_Overturning          object \n",
      " 15  Towing_and_Articulation           object \n",
      " 16  Vehicle_Leaving_Carriageway       object \n",
      " 17  Vehicle_Location.Restricted_Lane  float64\n",
      " 18  Vehicle_Manoeuvre                 object \n",
      " 19  Vehicle_Reference                 int64  \n",
      " 20  Vehicle_Type                      object \n",
      " 21  Was_Vehicle_Left_Hand_Drive       object \n",
      " 22  X1st_Point_of_Impact              object \n",
      " 23  Year                              int64  \n",
      "dtypes: float64(4), int64(2), object(18)\n",
      "memory usage: 398.7+ MB\n"
     ]
    }
   ],
   "source": [
    "vehicle_df.info()"
   ]
  },
  {
   "cell_type": "markdown",
   "metadata": {},
   "source": [
    "### Data Preprocessing"
   ]
  },
  {
   "cell_type": "markdown",
   "metadata": {},
   "source": [
    "First consider the **accident_df** Dataframe\n",
    "\n",
    "1. Drop Missing values"
   ]
  },
  {
   "cell_type": "code",
   "execution_count": 5,
   "metadata": {},
   "outputs": [
    {
     "name": "stdout",
     "output_type": "stream",
     "text": [
      "No. of Missing Values in Accidents initially: 1014501\n"
     ]
    }
   ],
   "source": [
    "print('No. of Missing Values in Accidents initially:',round(accident_df.isna().sum().sum(), 3))\n",
    "accident_df.dropna(inplace=True)"
   ]
  },
  {
   "cell_type": "code",
   "execution_count": 6,
   "metadata": {},
   "outputs": [
    {
     "name": "stdout",
     "output_type": "stream",
     "text": [
      "No. of Missing Values in Accidents after drop: 0\n"
     ]
    }
   ],
   "source": [
    "print('No. of Missing Values in Accidents after drop:',round(accident_df.isna().sum().sum(), 3))"
   ]
  },
  {
   "cell_type": "markdown",
   "metadata": {},
   "source": [
    "2. Date and Time"
   ]
  },
  {
   "cell_type": "code",
   "execution_count": 7,
   "metadata": {},
   "outputs": [],
   "source": [
    "#format Date column in the proper format\n",
    "accident_df['Date']= pd.to_datetime(accident_df['Date'], format=\"%Y-%m-%d\")"
   ]
  },
  {
   "cell_type": "markdown",
   "metadata": {},
   "source": [
    "Since on first look Time of day seems to play an import role, let's define a new column that groups the Time the accidents happened into one of five options:\n",
    "\n",
    "- Morning Rush from 5am to 10am: 1\n",
    "- Office Hours from 10am to 3pm (or: 10:00 - 15:00): 2\n",
    "- Afternoon Rush from 3pm to 7pm (or: 15:00 - 19:00): 3\n",
    "- Evening from 7pm to 11pm (or: 19:00 - 23:00): 4\n",
    "- Night from 11pm to 5am (or: 23:00 - 05:00): 5"
   ]
  },
  {
   "cell_type": "code",
   "execution_count": 8,
   "metadata": {},
   "outputs": [],
   "source": [
    "# create a little dictionary to later look up the groups I created\n",
    "daytime_groups = {1: 'Morning: 5 to 10', \n",
    "                  2: 'Office Hours: 10 to 15', \n",
    "                  3: 'Afternoon Rush: 15 to 19', \n",
    "                  4: 'Evening: 19 to 23', \n",
    "                  5: 'Night: 23 to 5'}\n",
    "# define a function that turns the hours into daytime groups\n",
    "def when_was_it(hour):\n",
    "    if hour >= 5 and hour < 10:\n",
    "        return \"1\"\n",
    "    elif hour >= 10 and hour < 15:\n",
    "        return \"2\"\n",
    "    elif hour >= 15 and hour < 19:\n",
    "        return \"3\"\n",
    "    elif hour >= 19 and hour < 23:\n",
    "        return \"4\"\n",
    "    else:\n",
    "        return \"5\""
   ]
  },
  {
   "cell_type": "code",
   "execution_count": 9,
   "metadata": {},
   "outputs": [
    {
     "data": {
      "text/html": [
       "<div>\n",
       "<style scoped>\n",
       "    .dataframe tbody tr th:only-of-type {\n",
       "        vertical-align: middle;\n",
       "    }\n",
       "\n",
       "    .dataframe tbody tr th {\n",
       "        vertical-align: top;\n",
       "    }\n",
       "\n",
       "    .dataframe thead th {\n",
       "        text-align: right;\n",
       "    }\n",
       "</style>\n",
       "<table border=\"1\" class=\"dataframe\">\n",
       "  <thead>\n",
       "    <tr style=\"text-align: right;\">\n",
       "      <th></th>\n",
       "      <th>Time</th>\n",
       "      <th>Hour</th>\n",
       "      <th>Daytime</th>\n",
       "    </tr>\n",
       "  </thead>\n",
       "  <tbody>\n",
       "    <tr>\n",
       "      <th>1</th>\n",
       "      <td>17:36</td>\n",
       "      <td>17</td>\n",
       "      <td>3</td>\n",
       "    </tr>\n",
       "    <tr>\n",
       "      <th>6</th>\n",
       "      <td>20:40</td>\n",
       "      <td>20</td>\n",
       "      <td>4</td>\n",
       "    </tr>\n",
       "    <tr>\n",
       "      <th>8</th>\n",
       "      <td>22:43</td>\n",
       "      <td>22</td>\n",
       "      <td>4</td>\n",
       "    </tr>\n",
       "    <tr>\n",
       "      <th>9</th>\n",
       "      <td>16:00</td>\n",
       "      <td>16</td>\n",
       "      <td>3</td>\n",
       "    </tr>\n",
       "    <tr>\n",
       "      <th>10</th>\n",
       "      <td>00:42</td>\n",
       "      <td>0</td>\n",
       "      <td>5</td>\n",
       "    </tr>\n",
       "  </tbody>\n",
       "</table>\n",
       "</div>"
      ],
      "text/plain": [
       "     Time  Hour Daytime\n",
       "1   17:36    17       3\n",
       "6   20:40    20       4\n",
       "8   22:43    22       4\n",
       "9   16:00    16       3\n",
       "10  00:42     0       5"
      ]
     },
     "execution_count": 9,
     "metadata": {},
     "output_type": "execute_result"
    }
   ],
   "source": [
    "# slice first and second string from time column\n",
    "accident_df['Hour'] = accident_df['Time'].str[0:2]\n",
    "# convert new column to numeric datetype\n",
    "accident_df['Hour'] = pd.to_numeric(accident_df['Hour'])\n",
    "# drop null values in our new column\n",
    "accident_df = accident_df.dropna(subset=['Hour'])\n",
    "# cast to integer values\n",
    "accident_df['Hour'] = accident_df['Hour'].astype('int')\n",
    "\n",
    "# apply function to temporary hour column\n",
    "accident_df['Daytime'] = accident_df['Hour'].apply(when_was_it)\n",
    "accident_df[['Time', 'Hour', 'Daytime']].head()"
   ]
  },
  {
   "cell_type": "code",
   "execution_count": 10,
   "metadata": {},
   "outputs": [],
   "source": [
    "#drop Hour and Time columns\n",
    "accident_df = accident_df.drop(columns=['Time', 'Hour'])"
   ]
  },
  {
   "cell_type": "markdown",
   "metadata": {},
   "source": [
    "**Merge DataFrames with only necessary features**"
   ]
  },
  {
   "cell_type": "code",
   "execution_count": 11,
   "metadata": {},
   "outputs": [
    {
     "data": {
      "text/html": [
       "<div>\n",
       "<style scoped>\n",
       "    .dataframe tbody tr th:only-of-type {\n",
       "        vertical-align: middle;\n",
       "    }\n",
       "\n",
       "    .dataframe tbody tr th {\n",
       "        vertical-align: top;\n",
       "    }\n",
       "\n",
       "    .dataframe thead th {\n",
       "        text-align: right;\n",
       "    }\n",
       "</style>\n",
       "<table border=\"1\" class=\"dataframe\">\n",
       "  <thead>\n",
       "    <tr style=\"text-align: right;\">\n",
       "      <th></th>\n",
       "      <th>Accident_Index</th>\n",
       "      <th>Accident_Severity</th>\n",
       "      <th>Road_Surface_Conditions</th>\n",
       "      <th>Light_Conditions</th>\n",
       "      <th>Daytime</th>\n",
       "      <th>Speed_limit</th>\n",
       "      <th>Weather_Conditions</th>\n",
       "      <th>Urban_or_Rural_Area</th>\n",
       "      <th>Age_Band_of_Driver</th>\n",
       "      <th>Age_of_Vehicle</th>\n",
       "      <th>Vehicle_Manoeuvre</th>\n",
       "    </tr>\n",
       "  </thead>\n",
       "  <tbody>\n",
       "    <tr>\n",
       "      <th>0</th>\n",
       "      <td>200501BS00002</td>\n",
       "      <td>Slight</td>\n",
       "      <td>Dry</td>\n",
       "      <td>Darkness - lights lit</td>\n",
       "      <td>3</td>\n",
       "      <td>30.0</td>\n",
       "      <td>Fine no high winds</td>\n",
       "      <td>Urban</td>\n",
       "      <td>36 - 45</td>\n",
       "      <td>3.0</td>\n",
       "      <td>Slowing or stopping</td>\n",
       "    </tr>\n",
       "    <tr>\n",
       "      <th>1</th>\n",
       "      <td>200501BS00007</td>\n",
       "      <td>Slight</td>\n",
       "      <td>Dry</td>\n",
       "      <td>Darkness - lights lit</td>\n",
       "      <td>4</td>\n",
       "      <td>30.0</td>\n",
       "      <td>Fine no high winds</td>\n",
       "      <td>Urban</td>\n",
       "      <td>26 - 35</td>\n",
       "      <td>NaN</td>\n",
       "      <td>Going ahead other</td>\n",
       "    </tr>\n",
       "    <tr>\n",
       "      <th>2</th>\n",
       "      <td>200501BS00007</td>\n",
       "      <td>Slight</td>\n",
       "      <td>Dry</td>\n",
       "      <td>Darkness - lights lit</td>\n",
       "      <td>4</td>\n",
       "      <td>30.0</td>\n",
       "      <td>Fine no high winds</td>\n",
       "      <td>Urban</td>\n",
       "      <td>36 - 45</td>\n",
       "      <td>4.0</td>\n",
       "      <td>Parked</td>\n",
       "    </tr>\n",
       "    <tr>\n",
       "      <th>3</th>\n",
       "      <td>200501BS00012</td>\n",
       "      <td>Slight</td>\n",
       "      <td>Dry</td>\n",
       "      <td>Darkness - lights lit</td>\n",
       "      <td>5</td>\n",
       "      <td>30.0</td>\n",
       "      <td>Fine no high winds</td>\n",
       "      <td>Urban</td>\n",
       "      <td>26 - 35</td>\n",
       "      <td>6.0</td>\n",
       "      <td>Going ahead other</td>\n",
       "    </tr>\n",
       "    <tr>\n",
       "      <th>4</th>\n",
       "      <td>200501BS00014</td>\n",
       "      <td>Slight</td>\n",
       "      <td>Wet or damp</td>\n",
       "      <td>Darkness - lights lit</td>\n",
       "      <td>4</td>\n",
       "      <td>30.0</td>\n",
       "      <td>Fine no high winds</td>\n",
       "      <td>Urban</td>\n",
       "      <td>16 - 20</td>\n",
       "      <td>1.0</td>\n",
       "      <td>Going ahead other</td>\n",
       "    </tr>\n",
       "  </tbody>\n",
       "</table>\n",
       "</div>"
      ],
      "text/plain": [
       "  Accident_Index Accident_Severity Road_Surface_Conditions  \\\n",
       "0  200501BS00002            Slight                     Dry   \n",
       "1  200501BS00007            Slight                     Dry   \n",
       "2  200501BS00007            Slight                     Dry   \n",
       "3  200501BS00012            Slight                     Dry   \n",
       "4  200501BS00014            Slight             Wet or damp   \n",
       "\n",
       "        Light_Conditions Daytime  Speed_limit  Weather_Conditions  \\\n",
       "0  Darkness - lights lit       3         30.0  Fine no high winds   \n",
       "1  Darkness - lights lit       4         30.0  Fine no high winds   \n",
       "2  Darkness - lights lit       4         30.0  Fine no high winds   \n",
       "3  Darkness - lights lit       5         30.0  Fine no high winds   \n",
       "4  Darkness - lights lit       4         30.0  Fine no high winds   \n",
       "\n",
       "  Urban_or_Rural_Area Age_Band_of_Driver  Age_of_Vehicle    Vehicle_Manoeuvre  \n",
       "0               Urban            36 - 45             3.0  Slowing or stopping  \n",
       "1               Urban            26 - 35             NaN    Going ahead other  \n",
       "2               Urban            36 - 45             4.0               Parked  \n",
       "3               Urban            26 - 35             6.0    Going ahead other  \n",
       "4               Urban            16 - 20             1.0    Going ahead other  "
      ]
     },
     "execution_count": 11,
     "metadata": {},
     "output_type": "execute_result"
    }
   ],
   "source": [
    "# combine the accidents with the vehicles table\n",
    "data_df = pd.merge(accident_df[['Accident_Index', 'Accident_Severity','Road_Surface_Conditions', 'Light_Conditions',\n",
    "                              'Daytime', 'Speed_limit','Weather_Conditions', 'Urban_or_Rural_Area']], \n",
    "              vehicle_df[['Accident_Index', 'Age_Band_of_Driver', 'Age_of_Vehicle', 'Vehicle_Manoeuvre']], \n",
    "              on='Accident_Index')\n",
    "data_df.head()"
   ]
  },
  {
   "cell_type": "code",
   "execution_count": 12,
   "metadata": {},
   "outputs": [
    {
     "data": {
      "text/plain": [
       "0"
      ]
     },
     "execution_count": 12,
     "metadata": {},
     "output_type": "execute_result"
    }
   ],
   "source": [
    "#Drop missing values\n",
    "data_df = data_df.dropna()\n",
    "data_df.isna().sum().sum()"
   ]
  },
  {
   "cell_type": "code",
   "execution_count": 18,
   "metadata": {},
   "outputs": [
    {
     "name": "stdout",
     "output_type": "stream",
     "text": [
      "<class 'pandas.core.frame.DataFrame'>\n",
      "Int64Index: 968614 entries, 0 to 1158465\n",
      "Data columns (total 11 columns):\n",
      " #   Column                   Non-Null Count   Dtype  \n",
      "---  ------                   --------------   -----  \n",
      " 0   Accident_Index           968614 non-null  object \n",
      " 1   Accident_Severity        968614 non-null  object \n",
      " 2   Road_Surface_Conditions  968614 non-null  object \n",
      " 3   Light_Conditions         968614 non-null  object \n",
      " 4   Daytime                  968614 non-null  object \n",
      " 5   Speed_limit              968614 non-null  float64\n",
      " 6   Weather_Conditions       968614 non-null  object \n",
      " 7   Urban_or_Rural_Area      968614 non-null  object \n",
      " 8   Age_Band_of_Driver       968614 non-null  object \n",
      " 9   Age_of_Vehicle           968614 non-null  float64\n",
      " 10  Vehicle_Manoeuvre        968614 non-null  object \n",
      "dtypes: float64(2), object(9)\n",
      "memory usage: 88.7+ MB\n"
     ]
    }
   ],
   "source": [
    "data_df.info()"
   ]
  },
  {
   "cell_type": "markdown",
   "metadata": {},
   "source": [
    "**Binning 'Age_of_Vehicle'**"
   ]
  },
  {
   "cell_type": "code",
   "execution_count": 13,
   "metadata": {},
   "outputs": [
    {
     "data": {
      "text/plain": [
       "1     92632\n",
       "2     82204\n",
       "3    297847\n",
       "4    206017\n",
       "5    289914\n",
       "Name: Age_of_Vehicle, dtype: int64"
      ]
     },
     "execution_count": 13,
     "metadata": {},
     "output_type": "execute_result"
    }
   ],
   "source": [
    "age_of_vehicle_bins = {1: '1 to <2 years', \n",
    "                       2: '2 to <3 years', \n",
    "                       3: '3 to <7 years', \n",
    "                       4: '7 to <10 years', \n",
    "                       5: '>=10 years'}\n",
    "\n",
    "# arguments in bins parameter denote left edge of each bin\n",
    "data_df['Age_of_Vehicle'] = np.digitize(data_df['Age_of_Vehicle'], bins=[1,2,3,7,10])\n",
    "# convert into categorical column\n",
    "data_df['Age_of_Vehicle'] = data_df['Age_of_Vehicle'].astype('category')\n",
    "# check the count within each bucket\n",
    "data_df['Age_of_Vehicle'].value_counts().sort_index()"
   ]
  },
  {
   "cell_type": "markdown",
   "metadata": {},
   "source": [
    "**Categorical to Numerical**"
   ]
  },
  {
   "cell_type": "code",
   "execution_count": 14,
   "metadata": {},
   "outputs": [],
   "source": [
    "#convert speed_limit to categorical\n",
    "data_df['Speed_limit'] = data_df['Speed_limit'].astype('category')\n",
    "# categorical feature columns\n",
    "cat_cols = ['Road_Surface_Conditions', 'Light_Conditions','Daytime', 'Speed_limit','Weather_Conditions', \n",
    "            'Urban_or_Rural_Area', 'Age_Band_of_Driver', 'Vehicle_Manoeuvre']\n",
    "\n",
    "# create dummy variables from the categorical features\n",
    "dummies = pd.get_dummies(data_df[cat_cols], drop_first=True)"
   ]
  },
  {
   "cell_type": "markdown",
   "metadata": {},
   "source": [
    "**Features and Target**"
   ]
  },
  {
   "cell_type": "code",
   "execution_count": 15,
   "metadata": {},
   "outputs": [
    {
     "data": {
      "text/html": [
       "<div>\n",
       "<style scoped>\n",
       "    .dataframe tbody tr th:only-of-type {\n",
       "        vertical-align: middle;\n",
       "    }\n",
       "\n",
       "    .dataframe tbody tr th {\n",
       "        vertical-align: top;\n",
       "    }\n",
       "\n",
       "    .dataframe thead th {\n",
       "        text-align: right;\n",
       "    }\n",
       "</style>\n",
       "<table border=\"1\" class=\"dataframe\">\n",
       "  <thead>\n",
       "    <tr style=\"text-align: right;\">\n",
       "      <th></th>\n",
       "      <th>Age_of_Vehicle</th>\n",
       "      <th>Road_Surface_Conditions_Dry</th>\n",
       "      <th>Road_Surface_Conditions_Flood over 3cm. deep</th>\n",
       "      <th>Road_Surface_Conditions_Frost or ice</th>\n",
       "      <th>Road_Surface_Conditions_Snow</th>\n",
       "      <th>Road_Surface_Conditions_Wet or damp</th>\n",
       "      <th>Light_Conditions_Darkness - lights lit</th>\n",
       "      <th>Light_Conditions_Darkness - lights unlit</th>\n",
       "      <th>Light_Conditions_Darkness - no lighting</th>\n",
       "      <th>Light_Conditions_Data missing or out of range</th>\n",
       "      <th>...</th>\n",
       "      <th>Vehicle_Manoeuvre_Overtaking static vehicle - offside</th>\n",
       "      <th>Vehicle_Manoeuvre_Parked</th>\n",
       "      <th>Vehicle_Manoeuvre_Reversing</th>\n",
       "      <th>Vehicle_Manoeuvre_Slowing or stopping</th>\n",
       "      <th>Vehicle_Manoeuvre_Turning left</th>\n",
       "      <th>Vehicle_Manoeuvre_Turning right</th>\n",
       "      <th>Vehicle_Manoeuvre_U-turn</th>\n",
       "      <th>Vehicle_Manoeuvre_Waiting to go - held up</th>\n",
       "      <th>Vehicle_Manoeuvre_Waiting to turn left</th>\n",
       "      <th>Vehicle_Manoeuvre_Waiting to turn right</th>\n",
       "    </tr>\n",
       "  </thead>\n",
       "  <tbody>\n",
       "    <tr>\n",
       "      <th>0</th>\n",
       "      <td>3</td>\n",
       "      <td>1</td>\n",
       "      <td>0</td>\n",
       "      <td>0</td>\n",
       "      <td>0</td>\n",
       "      <td>0</td>\n",
       "      <td>1</td>\n",
       "      <td>0</td>\n",
       "      <td>0</td>\n",
       "      <td>0</td>\n",
       "      <td>...</td>\n",
       "      <td>0</td>\n",
       "      <td>0</td>\n",
       "      <td>0</td>\n",
       "      <td>1</td>\n",
       "      <td>0</td>\n",
       "      <td>0</td>\n",
       "      <td>0</td>\n",
       "      <td>0</td>\n",
       "      <td>0</td>\n",
       "      <td>0</td>\n",
       "    </tr>\n",
       "    <tr>\n",
       "      <th>2</th>\n",
       "      <td>3</td>\n",
       "      <td>1</td>\n",
       "      <td>0</td>\n",
       "      <td>0</td>\n",
       "      <td>0</td>\n",
       "      <td>0</td>\n",
       "      <td>1</td>\n",
       "      <td>0</td>\n",
       "      <td>0</td>\n",
       "      <td>0</td>\n",
       "      <td>...</td>\n",
       "      <td>0</td>\n",
       "      <td>1</td>\n",
       "      <td>0</td>\n",
       "      <td>0</td>\n",
       "      <td>0</td>\n",
       "      <td>0</td>\n",
       "      <td>0</td>\n",
       "      <td>0</td>\n",
       "      <td>0</td>\n",
       "      <td>0</td>\n",
       "    </tr>\n",
       "    <tr>\n",
       "      <th>3</th>\n",
       "      <td>3</td>\n",
       "      <td>1</td>\n",
       "      <td>0</td>\n",
       "      <td>0</td>\n",
       "      <td>0</td>\n",
       "      <td>0</td>\n",
       "      <td>1</td>\n",
       "      <td>0</td>\n",
       "      <td>0</td>\n",
       "      <td>0</td>\n",
       "      <td>...</td>\n",
       "      <td>0</td>\n",
       "      <td>0</td>\n",
       "      <td>0</td>\n",
       "      <td>0</td>\n",
       "      <td>0</td>\n",
       "      <td>0</td>\n",
       "      <td>0</td>\n",
       "      <td>0</td>\n",
       "      <td>0</td>\n",
       "      <td>0</td>\n",
       "    </tr>\n",
       "    <tr>\n",
       "      <th>4</th>\n",
       "      <td>1</td>\n",
       "      <td>0</td>\n",
       "      <td>0</td>\n",
       "      <td>0</td>\n",
       "      <td>0</td>\n",
       "      <td>1</td>\n",
       "      <td>1</td>\n",
       "      <td>0</td>\n",
       "      <td>0</td>\n",
       "      <td>0</td>\n",
       "      <td>...</td>\n",
       "      <td>0</td>\n",
       "      <td>0</td>\n",
       "      <td>0</td>\n",
       "      <td>0</td>\n",
       "      <td>0</td>\n",
       "      <td>0</td>\n",
       "      <td>0</td>\n",
       "      <td>0</td>\n",
       "      <td>0</td>\n",
       "      <td>0</td>\n",
       "    </tr>\n",
       "    <tr>\n",
       "      <th>5</th>\n",
       "      <td>2</td>\n",
       "      <td>0</td>\n",
       "      <td>0</td>\n",
       "      <td>0</td>\n",
       "      <td>0</td>\n",
       "      <td>1</td>\n",
       "      <td>1</td>\n",
       "      <td>0</td>\n",
       "      <td>0</td>\n",
       "      <td>0</td>\n",
       "      <td>...</td>\n",
       "      <td>0</td>\n",
       "      <td>0</td>\n",
       "      <td>0</td>\n",
       "      <td>0</td>\n",
       "      <td>0</td>\n",
       "      <td>0</td>\n",
       "      <td>0</td>\n",
       "      <td>0</td>\n",
       "      <td>0</td>\n",
       "      <td>0</td>\n",
       "    </tr>\n",
       "  </tbody>\n",
       "</table>\n",
       "<p>5 rows × 60 columns</p>\n",
       "</div>"
      ],
      "text/plain": [
       "  Age_of_Vehicle  Road_Surface_Conditions_Dry  \\\n",
       "0              3                            1   \n",
       "2              3                            1   \n",
       "3              3                            1   \n",
       "4              1                            0   \n",
       "5              2                            0   \n",
       "\n",
       "   Road_Surface_Conditions_Flood over 3cm. deep  \\\n",
       "0                                             0   \n",
       "2                                             0   \n",
       "3                                             0   \n",
       "4                                             0   \n",
       "5                                             0   \n",
       "\n",
       "   Road_Surface_Conditions_Frost or ice  Road_Surface_Conditions_Snow  \\\n",
       "0                                     0                             0   \n",
       "2                                     0                             0   \n",
       "3                                     0                             0   \n",
       "4                                     0                             0   \n",
       "5                                     0                             0   \n",
       "\n",
       "   Road_Surface_Conditions_Wet or damp  \\\n",
       "0                                    0   \n",
       "2                                    0   \n",
       "3                                    0   \n",
       "4                                    1   \n",
       "5                                    1   \n",
       "\n",
       "   Light_Conditions_Darkness - lights lit  \\\n",
       "0                                       1   \n",
       "2                                       1   \n",
       "3                                       1   \n",
       "4                                       1   \n",
       "5                                       1   \n",
       "\n",
       "   Light_Conditions_Darkness - lights unlit  \\\n",
       "0                                         0   \n",
       "2                                         0   \n",
       "3                                         0   \n",
       "4                                         0   \n",
       "5                                         0   \n",
       "\n",
       "   Light_Conditions_Darkness - no lighting  \\\n",
       "0                                        0   \n",
       "2                                        0   \n",
       "3                                        0   \n",
       "4                                        0   \n",
       "5                                        0   \n",
       "\n",
       "   Light_Conditions_Data missing or out of range  ...  \\\n",
       "0                                              0  ...   \n",
       "2                                              0  ...   \n",
       "3                                              0  ...   \n",
       "4                                              0  ...   \n",
       "5                                              0  ...   \n",
       "\n",
       "   Vehicle_Manoeuvre_Overtaking static vehicle - offside  \\\n",
       "0                                                  0       \n",
       "2                                                  0       \n",
       "3                                                  0       \n",
       "4                                                  0       \n",
       "5                                                  0       \n",
       "\n",
       "   Vehicle_Manoeuvre_Parked  Vehicle_Manoeuvre_Reversing  \\\n",
       "0                         0                            0   \n",
       "2                         1                            0   \n",
       "3                         0                            0   \n",
       "4                         0                            0   \n",
       "5                         0                            0   \n",
       "\n",
       "   Vehicle_Manoeuvre_Slowing or stopping  Vehicle_Manoeuvre_Turning left  \\\n",
       "0                                      1                               0   \n",
       "2                                      0                               0   \n",
       "3                                      0                               0   \n",
       "4                                      0                               0   \n",
       "5                                      0                               0   \n",
       "\n",
       "   Vehicle_Manoeuvre_Turning right  Vehicle_Manoeuvre_U-turn  \\\n",
       "0                                0                         0   \n",
       "2                                0                         0   \n",
       "3                                0                         0   \n",
       "4                                0                         0   \n",
       "5                                0                         0   \n",
       "\n",
       "   Vehicle_Manoeuvre_Waiting to go - held up  \\\n",
       "0                                          0   \n",
       "2                                          0   \n",
       "3                                          0   \n",
       "4                                          0   \n",
       "5                                          0   \n",
       "\n",
       "   Vehicle_Manoeuvre_Waiting to turn left  \\\n",
       "0                                       0   \n",
       "2                                       0   \n",
       "3                                       0   \n",
       "4                                       0   \n",
       "5                                       0   \n",
       "\n",
       "   Vehicle_Manoeuvre_Waiting to turn right  \n",
       "0                                        0  \n",
       "2                                        0  \n",
       "3                                        0  \n",
       "4                                        0  \n",
       "5                                        0  \n",
       "\n",
       "[5 rows x 60 columns]"
      ]
     },
     "execution_count": 15,
     "metadata": {},
     "output_type": "execute_result"
    }
   ],
   "source": [
    "model_df = pd.concat([data_df.drop(cat_cols,axis=1), dummies], axis=1)\n",
    "features = model_df.drop(['Accident_Severity', 'Accident_Index'], axis=1)\n",
    "features.head()"
   ]
  },
  {
   "cell_type": "code",
   "execution_count": 16,
   "metadata": {},
   "outputs": [
    {
     "data": {
      "text/plain": [
       "(968614, 1)"
      ]
     },
     "execution_count": 16,
     "metadata": {},
     "output_type": "execute_result"
    }
   ],
   "source": [
    "target = model_df[['Accident_Severity']]\n",
    "target.shape"
   ]
  },
  {
   "cell_type": "markdown",
   "metadata": {},
   "source": [
    "### Exploratory Data Analysis"
   ]
  },
  {
   "cell_type": "markdown",
   "metadata": {},
   "source": [
    "We finally have features-set with 968614 records with 60 columns/features.  After understanding what each feature represents, we need to explore their respective values to understand their distribution and if there are any inconsistencies from their definition."
   ]
  },
  {
   "cell_type": "markdown",
   "metadata": {},
   "source": [
    "**Start with the Target feature**"
   ]
  },
  {
   "cell_type": "code",
   "execution_count": 23,
   "metadata": {},
   "outputs": [
    {
     "data": {
      "image/png": "[encoded data removed]",
      "text/plain": [
       "<Figure size 432x288 with 1 Axes>"
      ]
     },
     "metadata": {
      "needs_background": "light"
     },
     "output_type": "display_data"
    }
   ],
   "source": [
    "# Plots and creates labels for values plotted. Used for exploration of features.\n",
    "def plot_and_annotate(data, **kwarg):\n",
    "    ax = data['percent'].sort_values().plot(kind='barh', **kwarg)\n",
    "    for p in ax.patches:\n",
    "        width = p.get_width()\n",
    "        plt.text(5 + width, p.get_y() + 0.55 * p.get_height(),\n",
    "                 '{:1.2f}%'.format(width),\n",
    "                 ha='center', va='center')\n",
    "\n",
    "# Creates percentages for value_counts of a pd.series object.\n",
    "def create_count_percentages(series, name=None):\n",
    "    values = series.value_counts()\n",
    "    expanded_value = values.to_frame(name)\n",
    "    expanded_value['percent'] = values.apply(lambda _: _ / series.size * 100)\n",
    "    return expanded_value\n",
    "\n",
    "# Data must be loaded before definin create_plot_data due to inside reference.\n",
    "def create_plot_data(data, feature):\n",
    "    return create_count_percentages(data[feature], name=feature)\n",
    "\n",
    "plot_data = create_plot_data(target, 'Accident_Severity')\n",
    "plot_and_annotate(plot_data, color='green')"
   ]
  },
  {
   "cell_type": "markdown",
   "metadata": {},
   "source": [
    "The first thing that we notice is the astonishing small number of fatal crashes there has been; considering this is data going back to the year 2000. We should also mention that New Zealand has had a consistent policy with regard to transportation and road safety.\n",
    "However, the most important thing to notice is how these classes are distributed and the imbalance between them. Since we want to predict these classes, and because the dispatched response would be very different depending on our prediction, we definitely need to be very careful about how we measure the performance of our model.\n",
    "\n",
    "To this end, and considering we will be trying different algorithms, we will rely on an array of performance metrics that will help us evaluate and chose the best algorithm for the task. Namely, for each algorithm, we will analyze the following performance metrics:\n",
    "    \n",
    "    - Precision\n",
    "    - Recall\n",
    "    - F-Score\n"
   ]
  },
  {
   "cell_type": "markdown",
   "metadata": {},
   "source": [
    "**Relationship between Severity and Time**"
   ]
  },
  {
   "cell_type": "code",
   "execution_count": 24,
   "metadata": {},
   "outputs": [
    {
     "data": {
      "image/png": "[encoded data removed]",
      "text/plain": [
       "<Figure size 432x288 with 1 Axes>"
      ]
     },
     "metadata": {
      "needs_background": "light"
     },
     "output_type": "display_data"
    }
   ],
   "source": [
    "plot_data = create_plot_data(data_df, 'Daytime')\n",
    "plot_and_annotate(plot_data, color='blue')"
   ]
  },
  {
   "cell_type": "markdown",
   "metadata": {},
   "source": [
    "The graph seems to match one's intuition, with highest number of accident cases occuring during the Afternoon-Rush hour between 15:00 and 19:00. Also it appears that 'Daytime' clearly would be a very good feature to predict using classification models."
   ]
  },
  {
   "cell_type": "markdown",
   "metadata": {},
   "source": [
    "**Features Correlation**\n",
    "\n",
    "Now that we have explored each feature individually, we need to check for possible correlations between a pair of features. "
   ]
  },
  {
   "cell_type": "code",
   "execution_count": 25,
   "metadata": {},
   "outputs": [
    {
     "data": {
      "text/plain": [
       "Text(0.5, 1.0, 'Correlation Matrix')"
      ]
     },
     "execution_count": 25,
     "metadata": {},
     "output_type": "execute_result"
    },
    {
     "data": {
      "image/png": "[encoded data removed]",
      "text/plain": [
       "<Figure size 720x720 with 2 Axes>"
      ]
     },
     "metadata": {
      "needs_background": "light"
     },
     "output_type": "display_data"
    }
   ],
   "source": [
    "f = plt.figure(figsize=(10,10))\n",
    "plt.matshow(features.corr(),fignum=f.number)\n",
    "plt.colorbar()\n",
    "plt.title('Correlation Matrix', fontsize=16)"
   ]
  },
  {
   "cell_type": "markdown",
   "metadata": {},
   "source": [
    "We can see that every feature is dependent on almost every other feature. Making it virtually impossible to remove any of them due to correlation, since they all carry valuable information.As a result, we decide to keep all the remaining features."
   ]
  },
  {
   "cell_type": "markdown",
   "metadata": {},
   "source": [
    "### Predictive Model"
   ]
  },
  {
   "cell_type": "markdown",
   "metadata": {},
   "source": [
    "**Train-Test-Split**"
   ]
  },
  {
   "cell_type": "code",
   "execution_count": 17,
   "metadata": {},
   "outputs": [],
   "source": [
    "X = features"
   ]
  },
  {
   "cell_type": "code",
   "execution_count": 18,
   "metadata": {},
   "outputs": [
    {
     "data": {
      "text/plain": [
       "array(['Slight', 'Slight', 'Slight', 'Slight', 'Slight'], dtype=object)"
      ]
     },
     "execution_count": 18,
     "metadata": {},
     "output_type": "execute_result"
    }
   ],
   "source": [
    "y = target['Accident_Severity'].values\n",
    "y[0:5]"
   ]
  },
  {
   "cell_type": "code",
   "execution_count": 19,
   "metadata": {},
   "outputs": [],
   "source": [
    "from sklearn.model_selection import train_test_split\n",
    "X_train, X_test, y_train, y_test = train_test_split(X, y, test_size=0.2, random_state=4)"
   ]
  },
  {
   "cell_type": "markdown",
   "metadata": {},
   "source": [
    "#### Models\n",
    "\n",
    "1. Since all of the features in the dataset are categorical and also, it is not clear which ones are the most meaningful or relevant to the classification task. Therefore, we will focus first on decision tress as a and we will train and optimize a Random Forest classifer. The **Random Forest Classifier** we will use now is a popular classification algorithm and includes a class_weight parameter, which allows us to have the algorithm adjust for imbalanced classes."
   ]
  },
  {
   "cell_type": "code",
   "execution_count": 20,
   "metadata": {},
   "outputs": [],
   "source": [
    "# import classifier\n",
    "from sklearn.ensemble import RandomForestClassifier\n",
    "# import metrics\n",
    "from sklearn.metrics import classification_report, confusion_matrix\n",
    "# import evaluation tools\n",
    "from sklearn.model_selection import KFold, cross_val_score"
   ]
  },
  {
   "cell_type": "code",
   "execution_count": 32,
   "metadata": {},
   "outputs": [
    {
     "name": "stdout",
     "output_type": "stream",
     "text": [
      "Classification Report Random Forest - with Entropy and class_weight Parameter: \n",
      "               precision    recall  f1-score   support\n",
      "\n",
      "       Fatal       0.02      0.27      0.03      1470\n",
      "     Serious       0.13      0.33      0.19     21624\n",
      "      Slight       0.90      0.61      0.73    170629\n",
      "\n",
      "    accuracy                           0.58    193723\n",
      "   macro avg       0.35      0.40      0.32    193723\n",
      "weighted avg       0.81      0.58      0.66    193723\n",
      "\n"
     ]
    }
   ],
   "source": [
    "# instantiate RandomForestClassifier with entropy and class_weight\n",
    "forest= RandomForestClassifier(random_state=4, criterion='entropy', n_jobs=3, class_weight='balanced')\n",
    "\n",
    "# train\n",
    "forest.fit(X_train, y_train)\n",
    "\n",
    "# predict\n",
    "y_hat  = forest.predict(X_test)\n",
    "\n",
    "# evaluate\n",
    "report = classification_report(y_test, y_hat)\n",
    "print('Classification Report Random Forest - with Entropy and class_weight Parameter: \\n', report)"
   ]
  },
  {
   "cell_type": "markdown",
   "metadata": {},
   "source": [
    "2. **Logistic Regression** is a variation of Linear Regression, useful when the observed dependent variable, y, is categorical. It produces a formula that predicts the probability of the class label as a function of the independent variables."
   ]
  },
  {
   "cell_type": "code",
   "execution_count": 24,
   "metadata": {},
   "outputs": [
    {
     "data": {
      "text/plain": [
       "LogisticRegression(C=0.01, class_weight='balanced', solver='liblinear')"
      ]
     },
     "execution_count": 24,
     "metadata": {},
     "output_type": "execute_result"
    }
   ],
   "source": [
    "from sklearn.linear_model import LogisticRegression\n",
    "LR = LogisticRegression(C=0.01, solver='liblinear',class_weight='balanced').fit(X_train,y_train)\n",
    "LR"
   ]
  },
  {
   "cell_type": "code",
   "execution_count": 25,
   "metadata": {},
   "outputs": [],
   "source": [
    "yhat = LR.predict(X_test)\n",
    "yhat_prob = LR.predict_proba(X_test)"
   ]
  },
  {
   "cell_type": "markdown",
   "metadata": {},
   "source": [
    "#### Confusion Matrix"
   ]
  },
  {
   "cell_type": "code",
   "execution_count": 31,
   "metadata": {},
   "outputs": [
    {
     "data": {
      "image/png": "[encoded data removed]",
      "text/plain": [
       "<Figure size 432x288 with 1 Axes>"
      ]
     },
     "metadata": {
      "needs_background": "light"
     },
     "output_type": "display_data"
    }
   ],
   "source": [
    "import seaborn as sns\n",
    "matrix = confusion_matrix(y_test, yhat)\n",
    "\n",
    "dataframe = pd.DataFrame(matrix, index=['Fatal', 'Serious', 'Slight'], \n",
    "                         columns=['Fatal', 'Serious', 'Slight'])\n",
    "\n",
    "# create heatmap\n",
    "sns.heatmap(dataframe, annot=True, cbar=None, cmap='Blues')\n",
    "plt.title('Confusion Matrix')\n",
    "plt.tight_layout(), plt.xlabel('True Values'), plt.ylabel('Predicted Values')\n",
    "plt.show()"
   ]
  },
  {
   "cell_type": "markdown",
   "metadata": {},
   "source": [
    "**Comparison Metrics**"
   ]
  },
  {
   "cell_type": "code",
   "execution_count": 38,
   "metadata": {},
   "outputs": [
    {
     "name": "stdout",
     "output_type": "stream",
     "text": [
      "RandomForest Jaccard index: 0.51\n",
      "RandomForest: 0.66\n",
      "LR Jaccard index: 0.76\n",
      "LR F1-score: 0.82\n",
      "LR LogLoss: 0.61\n"
     ]
    }
   ],
   "source": [
    "from sklearn.metrics import jaccard_score\n",
    "from sklearn.metrics import f1_score\n",
    "from sklearn.metrics import log_loss\n",
    "print(\"RandomForest Jaccard index: %.2f\" % jaccard_score(y_test, y_hat,average='weighted'))\n",
    "print(\"RandomForest: %.2f\" % f1_score(y_test, y_hat, average='weighted') )\n",
    "print(\"LR Jaccard index: %.2f\" % jaccard_score(y_test, yhat,average='weighted'))\n",
    "print(\"LR F1-score: %.2f\" % f1_score(y_test, yhat, average='weighted') )\n",
    "print(\"LR LogLoss: %.2f\" % log_loss(y_test, yhat_prob))"
   ]
  },
  {
   "cell_type": "markdown",
   "metadata": {},
   "source": [
    "**Accuracy Report**"
   ]
  },
  {
   "cell_type": "markdown",
   "metadata": {},
   "source": [
    "| Algorithm          | Jaccard | F1-score | LogLoss |\n",
    "|--------------------|---------|----------|---------|\n",
    "| RandomForest       | 0.51    | 0.66     | NA      |\n",
    "| LogisticRegression | 0.76    | 0.82     | 0.61    |"
   ]
  },
  {
   "cell_type": "code",
   "execution_count": null,
   "metadata": {},
   "outputs": [],
   "source": []
  }
 ],
 "metadata": {
  "kernelspec": {
   "display_name": "Python 3",
   "language": "python",
   "name": "python3"
  },
  "language_info": {
   "codemirror_mode": {
    "name": "ipython",
    "version": 3
   },
   "file_extension": ".py",
   "mimetype": "text/x-python",
   "name": "python",
   "nbconvert_exporter": "python",
   "pygments_lexer": "ipython3",
   "version": "3.8.2"
  }
 },
 "nbformat": 4,
 "nbformat_minor": 4
}
